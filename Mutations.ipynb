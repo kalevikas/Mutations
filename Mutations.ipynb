{
 "cells": [
  {
   "cell_type": "code",
   "execution_count": 1,
   "id": "47ca63ba",
   "metadata": {},
   "outputs": [],
   "source": [
    "def mutate_string(string, position, character):\n",
    "#     s = 'abracadabra'\n",
    "#     position = 5\n",
    "#     character = 'k'\n",
    "    \n",
    "    str=string[:5]+character+string[6:]\n",
    "    return str\n"
   ]
  },
  {
   "cell_type": "code",
   "execution_count": 3,
   "id": "cacd0e14",
   "metadata": {},
   "outputs": [
    {
     "data": {
      "text/plain": [
       "'abrackdabra'"
      ]
     },
     "execution_count": 3,
     "metadata": {},
     "output_type": "execute_result"
    }
   ],
   "source": [
    "mutate_string(\"abracadabra\",5,\"k\")"
   ]
  },
  {
   "cell_type": "code",
   "execution_count": 4,
   "id": "2c6427da",
   "metadata": {},
   "outputs": [],
   "source": [
    "def mutate_string(string, position, character):\n",
    "#     s = 'abracadabra'\n",
    "#     position = 5\n",
    "#     character = 'k'\n",
    "    \n",
    "    str=string[:position]+character+string[position+1:]\n",
    "    return str\n"
   ]
  },
  {
   "cell_type": "code",
   "execution_count": 6,
   "id": "0fa8fab4",
   "metadata": {},
   "outputs": [
    {
     "data": {
      "text/plain": [
       "'abrac12345dabra'"
      ]
     },
     "execution_count": 6,
     "metadata": {},
     "output_type": "execute_result"
    }
   ],
   "source": [
    "mutate_string('abracadabra',5,'12345')"
   ]
  },
  {
   "cell_type": "code",
   "execution_count": 7,
   "id": "5af3ff1e",
   "metadata": {},
   "outputs": [
    {
     "name": "stdout",
     "output_type": "stream",
     "text": [
      "['a', 'b', 'r', 'a', 'c', 'a', 'd', 'a', 'b', 'r', 'a']\n"
     ]
    }
   ],
   "source": [
    "s = 'abracadabra'\n",
    "lst=list(s)\n",
    "print(lst)"
   ]
  },
  {
   "cell_type": "code",
   "execution_count": 15,
   "id": "97ef8362",
   "metadata": {},
   "outputs": [
    {
     "name": "stdout",
     "output_type": "stream",
     "text": [
      "abracvikasdabra"
     ]
    }
   ],
   "source": [
    "s = 'abracadabra'\n",
    "lst=list(s)\n",
    "lst[5]='vikas'\n",
    "\n",
    "for i in lst:\n",
    "    \n",
    "    i=str(i)\n",
    "    print(i,end=\"\")"
   ]
  },
  {
   "cell_type": "code",
   "execution_count": 16,
   "id": "a0abc6d1",
   "metadata": {},
   "outputs": [
    {
     "data": {
      "text/plain": [
       "str"
      ]
     },
     "execution_count": 16,
     "metadata": {},
     "output_type": "execute_result"
    }
   ],
   "source": [
    "type(i)"
   ]
  },
  {
   "cell_type": "code",
   "execution_count": null,
   "id": "08db1cc3",
   "metadata": {},
   "outputs": [],
   "source": []
  }
 ],
 "metadata": {
  "kernelspec": {
   "display_name": "Python 3",
   "language": "python",
   "name": "python3"
  },
  "language_info": {
   "codemirror_mode": {
    "name": "ipython",
    "version": 3
   },
   "file_extension": ".py",
   "mimetype": "text/x-python",
   "name": "python",
   "nbconvert_exporter": "python",
   "pygments_lexer": "ipython3",
   "version": "3.8.8"
  }
 },
 "nbformat": 4,
 "nbformat_minor": 5
}
